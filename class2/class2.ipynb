{
 "cells": [
  {
   "cell_type": "code",
   "execution_count": 156,
   "metadata": {},
   "outputs": [],
   "source": [
    "import pandas as pd\n",
    "import numpy as np\n",
    "import matplotlib.pyplot as plt"
   ]
  },
  {
   "cell_type": "code",
   "execution_count": 157,
   "metadata": {},
   "outputs": [
    {
     "name": "stdout",
     "output_type": "stream",
     "text": [
      "Number of samples and features  500 12\n",
      "The names of the columns are  Index(['ID', 'Square_Feet', 'Num_Bedrooms', 'Num_Bathrooms', 'Num_Floors',\n",
      "       'Year_Built', 'Has_Garden', 'Has_Pool', 'Garage_Size', 'Location_Score',\n",
      "       'Distance_to_Center', 'Price'],\n",
      "      dtype='object')\n",
      "shape of X: (500, 4) \n",
      "\n",
      "shape of y: float64\n",
      "\n"
     ]
    }
   ],
   "source": [
    "#use pandas to load the data\n",
    "df = pd.read_csv(\"real_estate_dataset.csv\")\n",
    "\n",
    "#get number of samples and features\n",
    "n_samples, n_features = df.shape\n",
    "\n",
    "#get the names of coloumns\n",
    "columns = df.columns\n",
    "\n",
    "print(\"Number of samples and features \", n_samples, n_features)\n",
    "\n",
    "print(\"The names of the columns are \", columns) \n",
    "\n",
    "# use col id 'Square_Feet',  'Garage_Size', 'Location_Score','Distance_to_Center',\n",
    "X= df[['Square_Feet',  'Garage_Size', 'Location_Score','Distance_to_Center']].values\n",
    "\n",
    "# use price as target\n",
    "y = df['Price'].values\n",
    "\n",
    "print(f\"shape of X: {X.shape} \\n\")\n",
    "print(f\"shape of y: {y.dtype}\\n\")\n",
    "\n",
    "#get the number of samples and feature in X\n",
    "n_samples, n_features = X.shape\n",
    "\n"
   ]
  },
  {
   "cell_type": "code",
   "execution_count": 158,
   "metadata": {},
   "outputs": [
    {
     "name": "stdout",
     "output_type": "stream",
     "text": [
      "Are the predictions the same with X*coefs[0] and X@coefs? True\n",
      "Are the losses by direct and matrix the same? True\n",
      "size of errors: (500,) \n",
      "\n",
      "L2 norm of errors: 13297007.321853261 \n",
      "\n",
      "L2 norm of relative errors: 22.35214323542266 \n",
      "\n"
     ]
    }
   ],
   "source": [
    "#build a linear model to predict the price of the house from 4 features in X\n",
    "#make an array fo coefs of the siz of n_features+1, initialize to 1\n",
    "\n",
    "coefs = np.ones(n_features+1)\n",
    "\n",
    "#predict the price for each sample in X\n",
    "prediction_bydefn = X @ coefs[1:] + coefs[0]\n",
    "\n",
    "#append a col of 1s to X\n",
    "X = np.hstack([np.ones((n_samples, 1)), X])\n",
    "\n",
    "#predict the size of each sample in X\n",
    "predictions = X @ coefs\n",
    "\n",
    "#see i f all the entries in prediction_bydefn are the same \n",
    "is_same = np.allclose(prediction_bydefn, predictions)\n",
    "\n",
    "print(f\"Are the predictions the same with X*coefs[0] and X@coefs? {is_same}\")   \n",
    "\n",
    "# calculate the error using the predictions in Y\n",
    "errors = y - predictions\n",
    "\n",
    "rel_errors = errors / y\n",
    "\n",
    "#calculate mean of squares errors using a loop\n",
    "loss_loop = 0\n",
    "for i in range(n_samples):\n",
    "    loss_loop += errors[i]**2   \n",
    "\n",
    "loss_loop /= n_samples \n",
    "\n",
    "#calculate mean of squares errors using matrix operations\n",
    "loss_matrix = np.transpose(errors) @ errors / n_samples\n",
    "\n",
    "#compare the two methods of calculating mean squared error\n",
    "is_diff = np.allclose(loss_loop, loss_matrix) \n",
    "print(f\"Are the losses by direct and matrix the same? {is_diff}\")\n",
    "\n",
    "print(f\"size of errors: {errors.shape} \\n\") \n",
    "print(f\"L2 norm of errors: {np.linalg.norm(errors)} \\n\")\n",
    "print(f\"L2 norm of relative errors: {np.linalg.norm(rel_errors)} \\n\")\n"
   ]
  },
  {
   "cell_type": "code",
   "execution_count": 159,
   "metadata": {},
   "outputs": [],
   "source": [
    "#what is my optimization problem?\n",
    "#I want to find the coedds that minimize the mean squared error\n",
    "#this problem is called as least squares problem\n",
    "#\n",
    "\n",
    "\n"
   ]
  },
  {
   "cell_type": "code",
   "execution_count": 160,
   "metadata": {},
   "outputs": [],
   "source": [
    "#aside\n",
    "#in Nu = "
   ]
  },
  {
   "cell_type": "code",
   "execution_count": 161,
   "metadata": {},
   "outputs": [
    {
     "name": "stdout",
     "output_type": "stream",
     "text": [
      "L2 norm of errors: 2240271.8037529774 \n",
      "\n",
      "L2 norm of relative errors: 4.327097762677231 \n",
      "\n",
      "L2 norm of errors: 423041.8687172993 \n",
      "\n",
      "L2 norm of relative errors: 0.8097874801854511 \n",
      "\n"
     ]
    }
   ],
   "source": [
    "#objective function f(coefs) = 1/n_samples * \\sum_{i=1}^{n_samples}      ?  (y_i - X_i @ coefs)^2\n",
    "\n",
    "# what is a solution?\n",
    "# a solution is a set coefs that minimizes the objective function\n",
    "\n",
    "#how do we find a solution?\n",
    "#by searchin for the coeffs at which the gradient of the objective function is zero\n",
    "# OR i CAN set the gradint of objective fn to zero and solve for the coefs\n",
    "\n",
    "# write the loss matrix in terms of data and coeffs\n",
    "\n",
    "loss =  (y - X @ coefs).T @ (y - X @ coefs) / n_samples\n",
    "\n",
    "#calculate the gradient of the loss function wrt coefs\n",
    "gradient = -2/n_samples * X.T @ (y - X @ coefs)\n",
    "\n",
    "#we set grad_mate=rix = 0 and solve for coefs\n",
    "#X.T @ y = X.T @ X @ coefs\n",
    "# X.T @ X @ coefs = X.T @ y this eqn is called normal eqn\n",
    "#coeff = (X.T @ X)^-1 @  X.T @ y\n",
    "coefs = np.linalg.inv(X.T @ X) @ X.T @ y\n",
    "\n",
    "#save in a file coefs.csv\n",
    "np.savetxt(\"coefs.csv\", coefs, delimiter=\",\")\n",
    "\n",
    "#predict and find errors\n",
    "predictions = X @ coefs\n",
    "errors = y - predictions\n",
    "\n",
    "#print l2norm of errors\n",
    "print(f\"L2 norm of errors: {np.linalg.norm(errors)} \\n\")\n",
    "#print relative errorr of errors\n",
    "rel_errors = errors / y\n",
    "print(f\"L2 norm of relative errors: {np.linalg.norm(rel_errors)} \\n\")\n",
    "\n",
    "#use all features except \"price\" as X\n",
    "X = df.drop(\"Price\", axis=1).values\n",
    "\n",
    "#add bais term to X\n",
    "X = np.hstack([np.ones((n_samples, 1)), X])\n",
    "\n",
    "#calc coeffs using normal eqn\n",
    "coefs_all = np.linalg.inv(X.T @ X) @ X.T @ y\n",
    "#predict and find errors\n",
    "predictions_all = X @ coefs_all\n",
    "errors_all = y - predictions_all\n",
    "\n",
    "#calc relative errors\n",
    "rel_errors_all = errors_all / y\n",
    "\n",
    "#print l2norm of errors\n",
    "print(f\"L2 norm of errors: {np.linalg.norm(errors_all)} \\n\")    \n",
    "print(f\"L2 norm of relative errors: {np.linalg.norm(rel_errors_all)} \\n\")\n",
    "#save in a file coefs_all.csv\n",
    "np.savetxt(\"coefs_all.csv\", coefs_all, delimiter=\",\")\n"
   ]
  },
  {
   "cell_type": "code",
   "execution_count": 162,
   "metadata": {},
   "outputs": [],
   "source": [
    "# read Matrix_Calculus wiki page"
   ]
  },
  {
   "cell_type": "code",
   "execution_count": 163,
   "metadata": {},
   "outputs": [
    {
     "name": "stdout",
     "output_type": "stream",
     "text": [
      "Rank of X.T @ X: 12\n",
      "shape of Q: (500, 12)\n",
      "shape of R: (12, 12)\n",
      "shape of b: (12,)\n",
      "shape of R: (12, 12)\n"
     ]
    }
   ],
   "source": [
    "# most costly step inverse of X.T X\n",
    "rank_XTX = np.linalg.matrix_rank(X.T @ X)\n",
    "print(f\"Rank of X.T @ X: {rank_XTX}\")\n",
    "# use QR fortorization to solve the normal eqn using matrix decomp\n",
    "Q, R = np.linalg.qr(X)\n",
    "\n",
    "print(f\"shape of Q: {Q.shape}\")\n",
    "print(f\"shape of R: {R.shape}\") \n",
    "\n",
    "#write R TO A file R.csv\n",
    "np.savetxt(\"R.csv\", R, delimiter=\",\")\n",
    "\n",
    "#R*coeffs = b\n",
    "sol = Q.T @ Q\n",
    "np.savetxt(\"sol.csv\", Q, delimiter=\",\")\n",
    "\n",
    "# X= QR\n",
    "#X.T @ X = R.T @ Q.T @ Q @ R = R.T @ R  \n",
    "#X.T @ y = R.T @ Q.T @ y\n",
    "#R*coeffs = Q.T @ y\n",
    "\n",
    "b = Q.T @ y\n",
    "print(f\"shape of b: {b.shape}\")\n",
    "print(f\"shape of R: {R.shape}\")\n",
    "\n",
    "#coefs_qr = np.linglang.inv(R) @ b  \n",
    "n_samples, n_features = X.shape\n",
    "coefs_qr_loop = np.zeros(n_features)\n",
    "\n",
    "#loop to solve R*coeffs = b using backsubstitution\n",
    "for i in range(n_features - 1, -1, -1):\n",
    "    coefs_qr_loop[i] = b[i]\n",
    "    for j in range(i + 1, n_features):\n",
    "        coefs_qr_loop[i] = coefs_qr_loop[i]-R[i, j] * coefs_qr_loop[j]\n",
    "    coefs_qr_loop[i] =coefs_qr_loop[i]/ R[i, i]\n",
    "\n",
    "\n",
    "#save coeffs_qr_loop to a file named coeffs_qr_loop.csv\n",
    "np.savetxt(\"coeffs_qr_loop.csv\", coefs_qr_loop, delimiter=\",\")\n",
    "\n"
   ]
  },
  {
   "cell_type": "code",
   "execution_count": 164,
   "metadata": {},
   "outputs": [],
   "source": [
    "#solve the normal eqn using SVD\n",
    "# X = U  S  V.T\n",
    "\n",
    "#eigen decomposition of sq matrix\n",
    "# A = V @ D @ V.T\n",
    "#A^-1 = V @ D^-1 @ V.T\n",
    "#X*coeffs = y\n",
    "#A= X^T  X\n",
    "\n",
    "#normal equation: X^T X coeffs = X^T y\n",
    "\n",
    "U, S, Vt = np.linalg.svd(X, full_matrices=False)\n",
    "\n",
    "#Find inveerse of x in laeast squares sense\n",
    "#pseudo inverse of x"
   ]
  },
  {
   "cell_type": "code",
   "execution_count": 165,
   "metadata": {},
   "outputs": [],
   "source": [
    "#after class\n",
    "#to complete:calclate the coeffs_svd using the SVD decomp using the pseudo inverse of X"
   ]
  },
  {
   "cell_type": "code",
   "execution_count": 166,
   "metadata": {},
   "outputs": [],
   "source": [
    "#inverse matrix S\n",
    "S_inv = np.diag(1/S)\n",
    "coeffs_svd = Vt.T @ S_inv @ U.T @ y\n",
    "\n",
    "\n",
    "#save the coeffs obtained from SVD in coeffs_svd.csv\n",
    "np.savetxt(\"coeffs_svd.csv\", coeffs_svd, delimiter=\",\")"
   ]
  },
  {
   "cell_type": "code",
   "execution_count": null,
   "metadata": {},
   "outputs": [],
   "source": []
  }
 ],
 "metadata": {
  "kernelspec": {
   "display_name": "Python 3",
   "language": "python",
   "name": "python3"
  },
  "language_info": {
   "codemirror_mode": {
    "name": "ipython",
    "version": 3
   },
   "file_extension": ".py",
   "mimetype": "text/x-python",
   "name": "python",
   "nbconvert_exporter": "python",
   "pygments_lexer": "ipython3",
   "version": "3.12.1"
  }
 },
 "nbformat": 4,
 "nbformat_minor": 2
}
